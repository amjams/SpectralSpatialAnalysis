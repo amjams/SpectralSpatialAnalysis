{
 "cells": [
  {
   "cell_type": "code",
   "execution_count": 3,
   "id": "22e92ac0-e962-4150-a322-0a73797f3b7f",
   "metadata": {},
   "outputs": [],
   "source": [
    "# imports\n",
    "import sys\n",
    "import os\n",
    "parent_dir = os.path.abspath(os.path.join(os.getcwd(), os.pardir))\n",
    "sys.path.append(parent_dir)\n",
    "from functions_EDX import *\n",
    "from numba.core.errors import NumbaDeprecationWarning, NumbaPendingDeprecationWarning\n",
    "import warnings\n",
    "warnings.simplefilter('ignore', category=NumbaDeprecationWarning)\n",
    "warnings.simplefilter('ignore', category=NumbaPendingDeprecationWarning)\n",
    "from matplotlib.colors import ListedColormap\n",
    "from scipy.io import savemat"
   ]
  },
  {
   "cell_type": "markdown",
   "id": "98ffe878-2441-4600-8a57-57e87e669c90",
   "metadata": {},
   "source": [
    "### Get the paths to the directory containing the preprocessed data"
   ]
  },
  {
   "cell_type": "code",
   "execution_count": 4,
   "id": "82fccfb8-1704-4186-92da-5ed106665544",
   "metadata": {},
   "outputs": [],
   "source": [
    "spectrum_folder = '/Volumes/Microscopy3/EDX_data/Identify/main_mosaic_6by5/Spectrum2D_extendedGauss1_3_5/'\n",
    "# or 'path/to/preprocessedData'\n",
    "\n",
    "file_names = []\n",
    "tmp = os.listdir(spectrum_folder)\n",
    "for filename in tmp:\n",
    "    if filename.endswith('.npz'):\n",
    "        file_names.append(filename)\n",
    "\n",
    "file_names = sorted(file_names)\n",
    "files = [os.path.join(spectrum_folder,file_name) for file_name in file_names]"
   ]
  },
  {
   "cell_type": "markdown",
   "id": "006a5012-0156-47f6-8784-c6375ff2e84f",
   "metadata": {},
   "source": [
    "### Save the tile into MAT (like remote sensing dataset, Pavia dataset etc.) so it can be handled with some remote sensing packages like deephyp"
   ]
  },
  {
   "cell_type": "code",
   "execution_count": 33,
   "id": "0ee3a585-964a-48f7-ab07-1f96f899ca90",
   "metadata": {},
   "outputs": [],
   "source": [
    "# choose a tile \n",
    "slices = [slice(i, i + 250) for i in range(0, 1000, 250)]\n",
    "tile_idx = 0\n",
    "spectrum_2D = np.load(files[tile_idx])['spectrum_2D']\n",
    "mdic = {\"spectrum_2D\": spectrum_2D[:,slices[3]].reshape((1024,1024,250))[::2, ::2, :]}\n",
    "savemat(\"hyperspectral-autoencoders/examples/tile0_slice_%03d_%03d.mat\" % (slices[3].start,slices[3].stop), mdic)"
   ]
  }
 ],
 "metadata": {
  "kernelspec": {
   "display_name": "edx",
   "language": "python",
   "name": "edx"
  },
  "language_info": {
   "codemirror_mode": {
    "name": "ipython",
    "version": 3
   },
   "file_extension": ".py",
   "mimetype": "text/x-python",
   "name": "python",
   "nbconvert_exporter": "python",
   "pygments_lexer": "ipython3",
   "version": "3.11.8"
  }
 },
 "nbformat": 4,
 "nbformat_minor": 5
}
